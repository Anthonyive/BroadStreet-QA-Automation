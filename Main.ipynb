{
 "cells": [
  {
   "cell_type": "markdown",
   "metadata": {},
   "source": [
    "# Imports"
   ]
  },
  {
   "cell_type": "code",
   "execution_count": 1,
   "metadata": {},
   "outputs": [],
   "source": [
    "import gspread\n",
    "import pandas as pd\n",
    "import numpy as np\n",
    "import datetime\n",
    "from us_state_abbrev import abbrev_us_state\n",
    "import re\n",
    "from tqdm.notebook import tqdm\n",
    "\n",
    "gc = gspread.oauth()"
   ]
  },
  {
   "cell_type": "markdown",
   "metadata": {},
   "source": [
    "# Import data (1 team entry, 3 comparison datasets)"
   ]
  },
  {
   "cell_type": "code",
   "execution_count": 2,
   "metadata": {},
   "outputs": [],
   "source": [
    "team_entry_sheet = gc.open(\"Mountains-Midwest COVID-19 by County (TEAM ENTRY) 10-28-2020 to present\").sheet1\n",
    "nyt_comparison_sheet = gc.open(\"QA TEAM ONLY - COVID-19 by County Comparison Data (NYT)\").sheet1\n",
    "\n",
    "team_entry = pd.DataFrame(team_entry_sheet.get_all_records(head = 2))\n",
    "team_entry = team_entry.replace(r'^\\s*$', np.nan, regex=True)\n",
    "nyt_comparison = pd.DataFrame(nyt_comparison_sheet.get_all_records())\n",
    "nyt_comparison = nyt_comparison.replace(r'^\\s*$', np.nan, regex=True)"
   ]
  },
  {
   "cell_type": "code",
   "execution_count": 3,
   "metadata": {},
   "outputs": [],
   "source": [
    "JHU_USAF_Cases_comparison_sheets = gc.open(\"COVID-19 by County Comparison Data (JHU/USAF) \")\n",
    "\n",
    "USAF_Cases_comparison_sheet = JHU_USAF_Cases_comparison_sheets.sheet1\n",
    "USAF_Deaths_comparison_sheet = JHU_USAF_Cases_comparison_sheets.get_worksheet(1)\n",
    "JHU_comparison_sheet = JHU_USAF_Cases_comparison_sheets.get_worksheet(2)"
   ]
  },
  {
   "cell_type": "code",
   "execution_count": 4,
   "metadata": {},
   "outputs": [],
   "source": [
    "USAF_Cases_comparison = pd.DataFrame(USAF_Cases_comparison_sheet.get_all_records())\n",
    "USAF_Deaths_comparison = pd.DataFrame(USAF_Deaths_comparison_sheet.get_all_records())\n",
    "JHU_comparison = pd.DataFrame(JHU_comparison_sheet.get_all_records())\n",
    "\n",
    "USAF_Cases_comparison = USAF_Cases_comparison.replace(r'^\\s*$', np.nan, regex=True)\n",
    "USAF_Deaths_comparison = USAF_Deaths_comparison.replace(r'^\\s*$', np.nan, regex=True)\n",
    "JHU_comparison = JHU_comparison.replace(r'^\\s*$', np.nan, regex=True)"
   ]
  },
  {
   "cell_type": "code",
   "execution_count": 5,
   "metadata": {},
   "outputs": [],
   "source": [
    "# with pd.option_context(\"display.max_rows\", 1000):\n",
    "#     display(team_entry[team_entry.state == 'TX'].loc[:, 'tstpos_101620':'pbmort_101620'])\n",
    "#     display(team_entry.loc[team_entry.state == 'TX', 'tstpos_101620':'pbmort_101620'])"
   ]
  },
  {
   "cell_type": "code",
   "execution_count": 6,
   "metadata": {},
   "outputs": [],
   "source": [
    "# with pd.option_context('display.max_rows', None, 'display.max_columns', None):  # more options can be specified also\n",
    "#     print(team_entry.pbmort_092520)"
   ]
  },
  {
   "cell_type": "code",
   "execution_count": 7,
   "metadata": {},
   "outputs": [],
   "source": [
    "# team_entry.pbmort_092520.values[:] = 0 "
   ]
  },
  {
   "cell_type": "markdown",
   "metadata": {},
   "source": [
    "# Functions needed"
   ]
  },
  {
   "cell_type": "code",
   "execution_count": 5,
   "metadata": {},
   "outputs": [],
   "source": [
    "# given a data frame and state, find out the latest updated time, formated in US time format\n",
    "def lastTimeUpdated(state):\n",
    "    print(f'For {state}, last updated on:')\n",
    "    \n",
    "    # team entry\n",
    "    yourstateDF = team_entry[team_entry.state == state]\n",
    "    nototalDF = yourstateDF.filter(regex=f\"\\d$\", axis=1).iloc[1:]\n",
    "    first_col_empty = pd.isna(nototalDF).any().idxmax()\n",
    "#     print(first_col_empty) # show which column has empty values\n",
    "    nextdate_str = re.compile(\"\\d.*\").findall(first_col_empty)[0]\n",
    "    nextdate = datetime.datetime.strptime(nextdate_str, '%m%d%y')\n",
    "    te_date = nextdate - datetime.timedelta(days=1)\n",
    "    print(f\"Team entry: {te_date.strftime('%m/%d/%y')}\")\n",
    "    \n",
    "    # nyt comparison dataset\n",
    "    nyt_date_str = nyt_comparison.date.iloc[-1]\n",
    "    try:\n",
    "        nyt_date = datetime.datetime.strptime(nyt_date_str, '%m/%d/%y')\n",
    "    except ValueError:\n",
    "        nyt_date = datetime.datetime.strptime(nyt_date_str, '%Y-%m-%d')\n",
    "    print(f\"NYT comparison dataset: {nyt_date.strftime('%m/%d/%y')}\")\n",
    "    \n",
    "    # USAF\n",
    "    usaf_date_str = USAF_Cases_comparison.columns[-1]\n",
    "    usaf_date = datetime.datetime.strptime(usaf_date_str, '%m/%d/%Y')\n",
    "    print(f\"USAF comparison dataset: {usaf_date.strftime('%m/%d/%y')}\")\n",
    "    \n",
    "    # JHU\n",
    "    jhu_date_str = JHU_comparison.columns[-1][1:-2]\n",
    "    jhu_date = datetime.datetime.strptime(jhu_date_str, '%Y%m%d')\n",
    "    print(f\"JHU comparison dataset: {jhu_date.strftime('%m/%d/%y')} \\n\")\n",
    "    \n",
    "    earliest_date = min([te_date, nyt_date, usaf_date, jhu_date])\n",
    "    print(f\"Date you can work on: {earliest_date.strftime('%m/%d/%y')}\")\n",
    "    \n",
    "    return earliest_date"
   ]
  },
  {
   "cell_type": "code",
   "execution_count": 6,
   "metadata": {},
   "outputs": [],
   "source": [
    "# given a state and a date (module datetime), output part of data frame you need to work on.\n",
    "def partTeamEntry(state, date):\n",
    "    yourstateDF = team_entry[team_entry.state == state]\n",
    "    infoDF = yourstateDF.iloc[:, 0:5]\n",
    "    covidDF = yourstateDF.filter(regex=f\"{date.strftime('%m%d%y')}$\", axis=1)\n",
    "    \n",
    "    return pd.concat([infoDF, covidDF], axis=1).iloc[1:,5:]\n",
    "#     return infoDF"
   ]
  },
  {
   "cell_type": "code",
   "execution_count": 7,
   "metadata": {},
   "outputs": [],
   "source": [
    "def partNYT(state, date):\n",
    "    date_str = date.strftime('%m/%-d/%y')\n",
    "#     date_str = date.strftime('%Y-%m-%d')\n",
    "    return nyt_comparison[(nyt_comparison.date == date_str) & (nyt_comparison.state == abbrev_us_state[state])]"
   ]
  },
  {
   "cell_type": "code",
   "execution_count": 8,
   "metadata": {},
   "outputs": [],
   "source": [
    "def partUSAFCases(state, date):\n",
    "    date_str = date.strftime('%-m/%-d/%Y')\n",
    "    return USAF_Cases_comparison[USAF_Cases_comparison.State == state].filter(items = [date_str])"
   ]
  },
  {
   "cell_type": "code",
   "execution_count": 9,
   "metadata": {},
   "outputs": [],
   "source": [
    "def partUSAFDeaths(state, date):\n",
    "    date_str = date.strftime('%-m/%-d/%Y')\n",
    "    return USAF_Deaths_comparison[USAF_Deaths_comparison.State == state].filter(items = [date_str])"
   ]
  },
  {
   "cell_type": "code",
   "execution_count": 10,
   "metadata": {},
   "outputs": [],
   "source": [
    "def partJHU(state, date):\n",
    "    date_str = [f\"x{date.strftime('%Y%m%d')}_c\", f\"x{date.strftime('%Y%m%d')}_m\"]\n",
    "    return JHU_comparison[JHU_comparison.state_ab == state].filter(items = date_str)"
   ]
  },
  {
   "cell_type": "code",
   "execution_count": 11,
   "metadata": {},
   "outputs": [],
   "source": [
    "def letter_to_num(letter):\n",
    "    return [ord(char) - 97 for char in letter.lower()][0]"
   ]
  },
  {
   "cell_type": "code",
   "execution_count": 12,
   "metadata": {},
   "outputs": [],
   "source": [
    "def inputData(comp_xlsx, state, date):\n",
    "    from openpyxl import load_workbook\n",
    "\n",
    "    book = load_workbook(comp_xlsx)\n",
    "    writer = pd.ExcelWriter(comp_xlsx, engine='openpyxl') \n",
    "    writer.book = book\n",
    "\n",
    "    ## ExcelWriter for some reason uses writer.sheets to access the sheet.\n",
    "    ## If you leave it empty it will not know that sheet Main is already there\n",
    "    ## and will create a new sheet.\n",
    "\n",
    "    writer.sheets = dict((ws.title, ws) for ws in book.worksheets)\n",
    "\n",
    "    partTeamEntry(state,date).to_excel(writer, \n",
    "                                       startcol = letter_to_num('C'), \n",
    "                                       startrow = 3, \n",
    "                                       header=None, index=False,\n",
    "                                       sheet_name=list(writer.sheets.keys())[1])\n",
    "    partJHU(state,date).to_excel(writer, \n",
    "                                 startcol = letter_to_num('I'), \n",
    "                                 startrow = 3, \n",
    "                                 header=None, index=False,\n",
    "                                 sheet_name=list(writer.sheets.keys())[1])\n",
    "    partNYT(state,date).to_excel(writer, \n",
    "                                 startcol = letter_to_num('L'), \n",
    "                                 startrow = 3, \n",
    "                                 header=None, index=False,\n",
    "                                 sheet_name=list(writer.sheets.keys())[1])\n",
    "    partUSAFCases(state,date).to_excel(writer, \n",
    "                                       startcol = letter_to_num('V'), \n",
    "                                       startrow = 3, \n",
    "                                       header=None, index=False,\n",
    "                                       sheet_name=list(writer.sheets.keys())[1])\n",
    "    partUSAFDeaths(state,date).to_excel(writer, \n",
    "                                        startcol = 26, \n",
    "                                        startrow = 3, \n",
    "                                        header=None, index=False,\n",
    "                                        sheet_name=list(writer.sheets.keys())[1])\n",
    "\n",
    "    writer.save()"
   ]
  },
  {
   "cell_type": "markdown",
   "metadata": {},
   "source": [
    "# Main Program"
   ]
  },
  {
   "cell_type": "code",
   "execution_count": 335,
   "metadata": {},
   "outputs": [
    {
     "name": "stdout",
     "output_type": "stream",
     "text": [
      "Today's date is 2020-11-27 \n",
      "\n",
      "\n",
      "\n",
      "For SD, last updated on:\n",
      "Team entry: 11/25/20\n",
      "NYT comparison dataset: 11/26/20\n",
      "USAF comparison dataset: 11/26/20\n",
      "JHU comparison dataset: 11/26/20 \n",
      "\n",
      "Date you can work on: 11/25/20\n"
     ]
    }
   ],
   "source": [
    "today = datetime.date.today() \n",
    "print(\"Today's date is\", today, '\\n')\n",
    "\n",
    "# state = input('Enter a state you working on: ').upper()\n",
    "state = 'SD'\n",
    "print('\\n')\n",
    "\n",
    "date = lastTimeUpdated(state)\n",
    "\n",
    "# custom date\n",
    "# last: 2020, 10 ,23\n",
    "date = datetime.datetime(2020, 11, 25)"
   ]
  },
  {
   "cell_type": "code",
   "execution_count": 336,
   "metadata": {},
   "outputs": [
    {
     "data": {
      "text/html": [
       "<div>\n",
       "<style scoped>\n",
       "    .dataframe tbody tr th:only-of-type {\n",
       "        vertical-align: middle;\n",
       "    }\n",
       "\n",
       "    .dataframe tbody tr th {\n",
       "        vertical-align: top;\n",
       "    }\n",
       "\n",
       "    .dataframe thead th {\n",
       "        text-align: right;\n",
       "    }\n",
       "</style>\n",
       "<table border=\"1\" class=\"dataframe\">\n",
       "  <thead>\n",
       "    <tr style=\"text-align: right;\">\n",
       "      <th></th>\n",
       "      <th>date</th>\n",
       "      <th>county</th>\n",
       "      <th>state</th>\n",
       "      <th>fips</th>\n",
       "      <th>cases</th>\n",
       "      <th>deaths</th>\n",
       "    </tr>\n",
       "  </thead>\n",
       "  <tbody>\n",
       "    <tr>\n",
       "      <th>767194</th>\n",
       "      <td>11/25/20</td>\n",
       "      <td>Aurora</td>\n",
       "      <td>South Dakota</td>\n",
       "      <td>46003.0</td>\n",
       "      <td>345</td>\n",
       "      <td>3</td>\n",
       "    </tr>\n",
       "    <tr>\n",
       "      <th>767195</th>\n",
       "      <td>11/25/20</td>\n",
       "      <td>Beadle</td>\n",
       "      <td>South Dakota</td>\n",
       "      <td>46005.0</td>\n",
       "      <td>2205</td>\n",
       "      <td>25</td>\n",
       "    </tr>\n",
       "    <tr>\n",
       "      <th>767196</th>\n",
       "      <td>11/25/20</td>\n",
       "      <td>Bennett</td>\n",
       "      <td>South Dakota</td>\n",
       "      <td>46007.0</td>\n",
       "      <td>311</td>\n",
       "      <td>5</td>\n",
       "    </tr>\n",
       "    <tr>\n",
       "      <th>767197</th>\n",
       "      <td>11/25/20</td>\n",
       "      <td>Bon Homme</td>\n",
       "      <td>South Dakota</td>\n",
       "      <td>46009.0</td>\n",
       "      <td>1335</td>\n",
       "      <td>14</td>\n",
       "    </tr>\n",
       "    <tr>\n",
       "      <th>767198</th>\n",
       "      <td>11/25/20</td>\n",
       "      <td>Brookings</td>\n",
       "      <td>South Dakota</td>\n",
       "      <td>46011.0</td>\n",
       "      <td>2311</td>\n",
       "      <td>16</td>\n",
       "    </tr>\n",
       "    <tr>\n",
       "      <th>...</th>\n",
       "      <td>...</td>\n",
       "      <td>...</td>\n",
       "      <td>...</td>\n",
       "      <td>...</td>\n",
       "      <td>...</td>\n",
       "      <td>...</td>\n",
       "    </tr>\n",
       "    <tr>\n",
       "      <th>767255</th>\n",
       "      <td>11/25/20</td>\n",
       "      <td>Turner</td>\n",
       "      <td>South Dakota</td>\n",
       "      <td>46125.0</td>\n",
       "      <td>766</td>\n",
       "      <td>36</td>\n",
       "    </tr>\n",
       "    <tr>\n",
       "      <th>767256</th>\n",
       "      <td>11/25/20</td>\n",
       "      <td>Union</td>\n",
       "      <td>South Dakota</td>\n",
       "      <td>46127.0</td>\n",
       "      <td>1194</td>\n",
       "      <td>23</td>\n",
       "    </tr>\n",
       "    <tr>\n",
       "      <th>767257</th>\n",
       "      <td>11/25/20</td>\n",
       "      <td>Walworth</td>\n",
       "      <td>South Dakota</td>\n",
       "      <td>46129.0</td>\n",
       "      <td>455</td>\n",
       "      <td>11</td>\n",
       "    </tr>\n",
       "    <tr>\n",
       "      <th>767258</th>\n",
       "      <td>11/25/20</td>\n",
       "      <td>Yankton</td>\n",
       "      <td>South Dakota</td>\n",
       "      <td>46135.0</td>\n",
       "      <td>1615</td>\n",
       "      <td>9</td>\n",
       "    </tr>\n",
       "    <tr>\n",
       "      <th>767259</th>\n",
       "      <td>11/25/20</td>\n",
       "      <td>Ziebach</td>\n",
       "      <td>South Dakota</td>\n",
       "      <td>46137.0</td>\n",
       "      <td>171</td>\n",
       "      <td>7</td>\n",
       "    </tr>\n",
       "  </tbody>\n",
       "</table>\n",
       "<p>66 rows × 6 columns</p>\n",
       "</div>"
      ],
      "text/plain": [
       "            date     county         state     fips  cases  deaths\n",
       "767194  11/25/20     Aurora  South Dakota  46003.0    345       3\n",
       "767195  11/25/20     Beadle  South Dakota  46005.0   2205      25\n",
       "767196  11/25/20    Bennett  South Dakota  46007.0    311       5\n",
       "767197  11/25/20  Bon Homme  South Dakota  46009.0   1335      14\n",
       "767198  11/25/20  Brookings  South Dakota  46011.0   2311      16\n",
       "...          ...        ...           ...      ...    ...     ...\n",
       "767255  11/25/20     Turner  South Dakota  46125.0    766      36\n",
       "767256  11/25/20      Union  South Dakota  46127.0   1194      23\n",
       "767257  11/25/20   Walworth  South Dakota  46129.0    455      11\n",
       "767258  11/25/20    Yankton  South Dakota  46135.0   1615       9\n",
       "767259  11/25/20    Ziebach  South Dakota  46137.0    171       7\n",
       "\n",
       "[66 rows x 6 columns]"
      ]
     },
     "execution_count": 336,
     "metadata": {},
     "output_type": "execute_result"
    }
   ],
   "source": [
    "partNYT(state,date)"
   ]
  },
  {
   "cell_type": "code",
   "execution_count": 337,
   "metadata": {},
   "outputs": [],
   "source": [
    "pre = './comparison sheets/'\n",
    "if state == 'MN':\n",
    "    filename = \"Minnesota - Mountains - County Comparison (with probable)\"\n",
    "    inputData(f'{pre+filename}.xlsx', state, date)\n",
    "if state == 'ND':\n",
    "    filename = \"North Dakota - Mountains - County Comparison (with probable)\"\n",
    "    inputData(f'{pre+filename}.xlsx', state, date)\n",
    "if state == 'TX':\n",
    "    filename = \"Texas - Mountains - County Comparison (with probable)\"\n",
    "    inputData(f'{pre+filename}.xlsx', state, date)\n",
    "if state == 'MT':\n",
    "    filename = \"Montana - Mountains - County Comparison (with probable)\"\n",
    "    inputData(f'{pre+filename}.xlsx', state, date)\n",
    "if state == 'SD':\n",
    "    filename = \"South Dakota - Mountains - County Comparison (with probable)\"\n",
    "    inputData(f'{pre+filename}.xlsx', state, date)"
   ]
  },
  {
   "cell_type": "code",
   "execution_count": 338,
   "metadata": {},
   "outputs": [],
   "source": [
    "from gspread.urls import SPREADSHEETS_API_V4_BASE_URL\n",
    "\n",
    "\n",
    "def insert_note(worksheet, label, note):\n",
    "    \"\"\"\n",
    "    Insert note ito the google worksheet for a certain cell.\n",
    "    \n",
    "    Compatible with gspread.\n",
    "    \"\"\"\n",
    "    spreadsheet_id = worksheet.spreadsheet.id\n",
    "    worksheet_id = worksheet.id\n",
    "\n",
    "    row, col = tuple(label)      # [0, 0] is A1\n",
    "\n",
    "    url = f\"{SPREADSHEETS_API_V4_BASE_URL}/{spreadsheet_id}:batchUpdate\"\n",
    "    payload = {\n",
    "        \"requests\": [\n",
    "            {\n",
    "                \"updateCells\": {\n",
    "                    \"range\": {\n",
    "                        \"sheetId\": worksheet_id,\n",
    "                        \"startRowIndex\": row,\n",
    "                        \"endRowIndex\": row + 1,\n",
    "                        \"startColumnIndex\": col,\n",
    "                        \"endColumnIndex\": col + 1\n",
    "                    },\n",
    "                    \"rows\": [\n",
    "                        {\n",
    "                            \"values\": [\n",
    "                                {\n",
    "                                    \"note\": note\n",
    "                                }\n",
    "                            ]\n",
    "                        }\n",
    "                    ],\n",
    "                    \"fields\": \"note\"\n",
    "                }\n",
    "            }\n",
    "        ]\n",
    "    }\n",
    "    worksheet.spreadsheet.client.request(\"post\", url, json=payload)"
   ]
  },
  {
   "cell_type": "markdown",
   "metadata": {},
   "source": [
    "Save as csv here!"
   ]
  },
  {
   "cell_type": "code",
   "execution_count": 339,
   "metadata": {},
   "outputs": [
    {
     "data": {
      "text/html": [
       "<div>\n",
       "<style scoped>\n",
       "    .dataframe tbody tr th:only-of-type {\n",
       "        vertical-align: middle;\n",
       "    }\n",
       "\n",
       "    .dataframe tbody tr th {\n",
       "        vertical-align: top;\n",
       "    }\n",
       "\n",
       "    .dataframe thead th {\n",
       "        text-align: right;\n",
       "    }\n",
       "</style>\n",
       "<table border=\"1\" class=\"dataframe\">\n",
       "  <thead>\n",
       "    <tr style=\"text-align: right;\">\n",
       "      <th></th>\n",
       "      <th>County</th>\n",
       "      <th>State</th>\n",
       "      <th>Unnamed: 21</th>\n",
       "      <th>Unnamed: 22</th>\n",
       "    </tr>\n",
       "  </thead>\n",
       "  <tbody>\n",
       "    <tr>\n",
       "      <th>0</th>\n",
       "      <td>STATE TOTALS</td>\n",
       "      <td>South Dakota</td>\n",
       "      <td>JHU=76142; NYT=76142; USAF=76142 in STATE TOTALS</td>\n",
       "      <td>JHU=849; NYT=849; USAF=849 in STATE TOTALS</td>\n",
       "    </tr>\n",
       "    <tr>\n",
       "      <th>1</th>\n",
       "      <td>Unknown</td>\n",
       "      <td>South Dakota</td>\n",
       "      <td>NaN</td>\n",
       "      <td>NaN</td>\n",
       "    </tr>\n",
       "    <tr>\n",
       "      <th>2</th>\n",
       "      <td>Aurora County</td>\n",
       "      <td>South Dakota</td>\n",
       "      <td>NaN</td>\n",
       "      <td>NaN</td>\n",
       "    </tr>\n",
       "    <tr>\n",
       "      <th>3</th>\n",
       "      <td>Beadle County</td>\n",
       "      <td>South Dakota</td>\n",
       "      <td>NaN</td>\n",
       "      <td>NaN</td>\n",
       "    </tr>\n",
       "    <tr>\n",
       "      <th>4</th>\n",
       "      <td>Bennett County</td>\n",
       "      <td>South Dakota</td>\n",
       "      <td>NaN</td>\n",
       "      <td>NaN</td>\n",
       "    </tr>\n",
       "    <tr>\n",
       "      <th>...</th>\n",
       "      <td>...</td>\n",
       "      <td>...</td>\n",
       "      <td>...</td>\n",
       "      <td>...</td>\n",
       "    </tr>\n",
       "    <tr>\n",
       "      <th>193</th>\n",
       "      <td>#VALUE!</td>\n",
       "      <td>#VALUE!</td>\n",
       "      <td>NaN</td>\n",
       "      <td>NaN</td>\n",
       "    </tr>\n",
       "    <tr>\n",
       "      <th>194</th>\n",
       "      <td>#VALUE!</td>\n",
       "      <td>#VALUE!</td>\n",
       "      <td>NaN</td>\n",
       "      <td>NaN</td>\n",
       "    </tr>\n",
       "    <tr>\n",
       "      <th>195</th>\n",
       "      <td>#VALUE!</td>\n",
       "      <td>#VALUE!</td>\n",
       "      <td>NaN</td>\n",
       "      <td>NaN</td>\n",
       "    </tr>\n",
       "    <tr>\n",
       "      <th>196</th>\n",
       "      <td>#VALUE!</td>\n",
       "      <td>#VALUE!</td>\n",
       "      <td>NaN</td>\n",
       "      <td>NaN</td>\n",
       "    </tr>\n",
       "    <tr>\n",
       "      <th>197</th>\n",
       "      <td>#VALUE!</td>\n",
       "      <td>#VALUE!</td>\n",
       "      <td>NaN</td>\n",
       "      <td>NaN</td>\n",
       "    </tr>\n",
       "  </tbody>\n",
       "</table>\n",
       "<p>198 rows × 4 columns</p>\n",
       "</div>"
      ],
      "text/plain": [
       "             County         State  \\\n",
       "0      STATE TOTALS  South Dakota   \n",
       "1           Unknown  South Dakota   \n",
       "2     Aurora County  South Dakota   \n",
       "3     Beadle County  South Dakota   \n",
       "4    Bennett County  South Dakota   \n",
       "..              ...           ...   \n",
       "193         #VALUE!       #VALUE!   \n",
       "194         #VALUE!       #VALUE!   \n",
       "195         #VALUE!       #VALUE!   \n",
       "196         #VALUE!       #VALUE!   \n",
       "197         #VALUE!       #VALUE!   \n",
       "\n",
       "                                          Unnamed: 21  \\\n",
       "0    JHU=76142; NYT=76142; USAF=76142 in STATE TOTALS   \n",
       "1                                                 NaN   \n",
       "2                                                 NaN   \n",
       "3                                                 NaN   \n",
       "4                                                 NaN   \n",
       "..                                                ...   \n",
       "193                                               NaN   \n",
       "194                                               NaN   \n",
       "195                                               NaN   \n",
       "196                                               NaN   \n",
       "197                                               NaN   \n",
       "\n",
       "                                    Unnamed: 22  \n",
       "0    JHU=849; NYT=849; USAF=849 in STATE TOTALS  \n",
       "1                                           NaN  \n",
       "2                                           NaN  \n",
       "3                                           NaN  \n",
       "4                                           NaN  \n",
       "..                                          ...  \n",
       "193                                         NaN  \n",
       "194                                         NaN  \n",
       "195                                         NaN  \n",
       "196                                         NaN  \n",
       "197                                         NaN  \n",
       "\n",
       "[198 rows x 4 columns]"
      ]
     },
     "execution_count": 339,
     "metadata": {},
     "output_type": "execute_result"
    }
   ],
   "source": [
    "read_comp_again = pd.read_csv(f'{pre+filename}.csv', header=1)\n",
    "\n",
    "read_comp_again = read_comp_again.dropna(how='all')\n",
    "\n",
    "part_read_again = read_comp_again.loc[:,['County', 'State', 'Unnamed: 21', 'Unnamed: 22']]\n",
    "\n",
    "part_read_again"
   ]
  },
  {
   "cell_type": "code",
   "execution_count": 340,
   "metadata": {},
   "outputs": [
    {
     "data": {
      "text/html": [
       "<div>\n",
       "<style scoped>\n",
       "    .dataframe tbody tr th:only-of-type {\n",
       "        vertical-align: middle;\n",
       "    }\n",
       "\n",
       "    .dataframe tbody tr th {\n",
       "        vertical-align: top;\n",
       "    }\n",
       "\n",
       "    .dataframe thead th {\n",
       "        text-align: right;\n",
       "    }\n",
       "</style>\n",
       "<table border=\"1\" class=\"dataframe\">\n",
       "  <thead>\n",
       "    <tr style=\"text-align: right;\">\n",
       "      <th></th>\n",
       "      <th>County</th>\n",
       "      <th>State</th>\n",
       "      <th>Case Comments</th>\n",
       "      <th>Death Comments</th>\n",
       "    </tr>\n",
       "  </thead>\n",
       "  <tbody>\n",
       "    <tr>\n",
       "      <th>0</th>\n",
       "      <td>STATE TOTALS</td>\n",
       "      <td>South Dakota</td>\n",
       "      <td>JHU=76142; NYT=76142; USAF=76142 in STATE TOTALS</td>\n",
       "      <td>JHU=849; NYT=849; USAF=849 in STATE TOTALS</td>\n",
       "    </tr>\n",
       "    <tr>\n",
       "      <th>1</th>\n",
       "      <td>Aurora County</td>\n",
       "      <td>South Dakota</td>\n",
       "      <td>NaN</td>\n",
       "      <td>NaN</td>\n",
       "    </tr>\n",
       "    <tr>\n",
       "      <th>2</th>\n",
       "      <td>Beadle County</td>\n",
       "      <td>South Dakota</td>\n",
       "      <td>NaN</td>\n",
       "      <td>NaN</td>\n",
       "    </tr>\n",
       "    <tr>\n",
       "      <th>3</th>\n",
       "      <td>Bennett County</td>\n",
       "      <td>South Dakota</td>\n",
       "      <td>NaN</td>\n",
       "      <td>NaN</td>\n",
       "    </tr>\n",
       "    <tr>\n",
       "      <th>4</th>\n",
       "      <td>Bon Homme County</td>\n",
       "      <td>South Dakota</td>\n",
       "      <td>NaN</td>\n",
       "      <td>NaN</td>\n",
       "    </tr>\n",
       "    <tr>\n",
       "      <th>...</th>\n",
       "      <td>...</td>\n",
       "      <td>...</td>\n",
       "      <td>...</td>\n",
       "      <td>...</td>\n",
       "    </tr>\n",
       "    <tr>\n",
       "      <th>193</th>\n",
       "      <td>#VALUE!</td>\n",
       "      <td>#VALUE!</td>\n",
       "      <td>NaN</td>\n",
       "      <td>NaN</td>\n",
       "    </tr>\n",
       "    <tr>\n",
       "      <th>194</th>\n",
       "      <td>#VALUE!</td>\n",
       "      <td>#VALUE!</td>\n",
       "      <td>NaN</td>\n",
       "      <td>NaN</td>\n",
       "    </tr>\n",
       "    <tr>\n",
       "      <th>195</th>\n",
       "      <td>#VALUE!</td>\n",
       "      <td>#VALUE!</td>\n",
       "      <td>NaN</td>\n",
       "      <td>NaN</td>\n",
       "    </tr>\n",
       "    <tr>\n",
       "      <th>196</th>\n",
       "      <td>#VALUE!</td>\n",
       "      <td>#VALUE!</td>\n",
       "      <td>NaN</td>\n",
       "      <td>NaN</td>\n",
       "    </tr>\n",
       "    <tr>\n",
       "      <th>197</th>\n",
       "      <td>Unknown</td>\n",
       "      <td>South Dakota</td>\n",
       "      <td>NaN</td>\n",
       "      <td>NaN</td>\n",
       "    </tr>\n",
       "  </tbody>\n",
       "</table>\n",
       "<p>198 rows × 4 columns</p>\n",
       "</div>"
      ],
      "text/plain": [
       "               County         State  \\\n",
       "0        STATE TOTALS  South Dakota   \n",
       "1       Aurora County  South Dakota   \n",
       "2       Beadle County  South Dakota   \n",
       "3      Bennett County  South Dakota   \n",
       "4    Bon Homme County  South Dakota   \n",
       "..                ...           ...   \n",
       "193           #VALUE!       #VALUE!   \n",
       "194           #VALUE!       #VALUE!   \n",
       "195           #VALUE!       #VALUE!   \n",
       "196           #VALUE!       #VALUE!   \n",
       "197           Unknown  South Dakota   \n",
       "\n",
       "                                        Case Comments  \\\n",
       "0    JHU=76142; NYT=76142; USAF=76142 in STATE TOTALS   \n",
       "1                                                 NaN   \n",
       "2                                                 NaN   \n",
       "3                                                 NaN   \n",
       "4                                                 NaN   \n",
       "..                                                ...   \n",
       "193                                               NaN   \n",
       "194                                               NaN   \n",
       "195                                               NaN   \n",
       "196                                               NaN   \n",
       "197                                               NaN   \n",
       "\n",
       "                                 Death Comments  \n",
       "0    JHU=849; NYT=849; USAF=849 in STATE TOTALS  \n",
       "1                                           NaN  \n",
       "2                                           NaN  \n",
       "3                                           NaN  \n",
       "4                                           NaN  \n",
       "..                                          ...  \n",
       "193                                         NaN  \n",
       "194                                         NaN  \n",
       "195                                         NaN  \n",
       "196                                         NaN  \n",
       "197                                         NaN  \n",
       "\n",
       "[198 rows x 4 columns]"
      ]
     },
     "execution_count": 340,
     "metadata": {},
     "output_type": "execute_result"
    }
   ],
   "source": [
    "# change the order as team entry\n",
    "part_read_again_wo_total = part_read_again.loc[1:,:]\n",
    "unknown_row = part_read_again_wo_total.iloc[0,:]\n",
    "part_read_again_wo_total\n",
    "\n",
    "part_read_again_wo_total = part_read_again_wo_total.shift(-1)\n",
    "part_read_again_wo_total.iloc[-1] = unknown_row.squeeze()\n",
    "part_read_again_wo_total\n",
    "\n",
    "part_reference = pd.concat([pd.DataFrame(part_read_again.loc[0,:]).transpose(), part_read_again_wo_total])\n",
    "part_reference.columns = ['County', 'State', 'Case Comments', 'Death Comments']\n",
    "\n",
    "part_reference"
   ]
  },
  {
   "cell_type": "code",
   "execution_count": 341,
   "metadata": {},
   "outputs": [],
   "source": [
    "case_comments = part_reference.loc[:, 'Case Comments'].to_list()"
   ]
  },
  {
   "cell_type": "code",
   "execution_count": 342,
   "metadata": {},
   "outputs": [],
   "source": [
    "death_comments = part_reference.loc[:, 'Death Comments'].to_list()"
   ]
  },
  {
   "cell_type": "code",
   "execution_count": 343,
   "metadata": {},
   "outputs": [
    {
     "data": {
      "text/plain": [
       "[117, 119]"
      ]
     },
     "execution_count": 343,
     "metadata": {},
     "output_type": "execute_result"
    }
   ],
   "source": [
    "start_col_idx = [ i for i, col in enumerate(team_entry.columns) if col.endswith(date.strftime('%m%d%y')) ][::2]\n",
    "\n",
    "if state == 'MT':\n",
    "    start_row_idx = 159 # MT\n",
    "    end_row_idx = 216 # MT\n",
    "elif state == 'SD':\n",
    "    start_row_idx = 402 # SD\n",
    "    end_row_idx = 469 # SD\n",
    "\n",
    "start_row_idx -= 1\n",
    "end_row_idx -= 1\n",
    "start_col_idx"
   ]
  },
  {
   "cell_type": "code",
   "execution_count": 344,
   "metadata": {},
   "outputs": [
    {
     "data": {
      "text/plain": [
       "(158, 85)"
      ]
     },
     "execution_count": 344,
     "metadata": {},
     "output_type": "execute_result"
    }
   ],
   "source": [
    "from xlsxwriter.utility import xl_cell_to_rowcol\n",
    "xl_cell_to_rowcol('CH159')"
   ]
  },
  {
   "cell_type": "code",
   "execution_count": 345,
   "metadata": {},
   "outputs": [
    {
     "data": {
      "application/vnd.jupyter.widget-view+json": {
       "model_id": "611825cadf114acd8431703ea98603b8",
       "version_major": 2,
       "version_minor": 0
      },
      "text/plain": [
       "HBox(children=(FloatProgress(value=0.0, max=68.0), HTML(value='')))"
      ]
     },
     "metadata": {},
     "output_type": "display_data"
    },
    {
     "name": "stdout",
     "output_type": "stream",
     "text": [
      "\n"
     ]
    }
   ],
   "source": [
    "# Case\n",
    "for i, ridx in enumerate(tqdm(range(start_row_idx, end_row_idx+1))):\n",
    "    if i == 0:\n",
    "        continue\n",
    "    if pd.isna(case_comments[i]):\n",
    "        continue\n",
    "    insert_note(team_entry_sheet, (ridx, start_col_idx[0]), case_comments[i])\n",
    "#         insert_note(team_entry, (ridx, cidx))"
   ]
  },
  {
   "cell_type": "code",
   "execution_count": 346,
   "metadata": {},
   "outputs": [
    {
     "data": {
      "application/vnd.jupyter.widget-view+json": {
       "model_id": "18f227a19dbf487787c0959ef6c8e45d",
       "version_major": 2,
       "version_minor": 0
      },
      "text/plain": [
       "HBox(children=(FloatProgress(value=0.0, max=68.0), HTML(value='')))"
      ]
     },
     "metadata": {},
     "output_type": "display_data"
    },
    {
     "name": "stdout",
     "output_type": "stream",
     "text": [
      "\n"
     ]
    }
   ],
   "source": [
    "# Death\n",
    "for i, ridx in enumerate(tqdm(range(start_row_idx, end_row_idx+1))):\n",
    "    if i == 0:\n",
    "        continue\n",
    "    if pd.isna(death_comments[i]):\n",
    "        continue\n",
    "    insert_note(team_entry_sheet, (ridx, start_col_idx[1]), death_comments[i])"
   ]
  },
  {
   "cell_type": "code",
   "execution_count": 347,
   "metadata": {},
   "outputs": [
    {
     "name": "stdout",
     "output_type": "stream",
     "text": [
      "2020-11-25 00:00:00\n",
      "Case Comment for STATE TOTALS:  JHU=76142; NYT=76142; USAF=76142 in STATE TOTALS\n",
      "Death Comment for STATE TOTALS:  JHU=849; NYT=849; USAF=849 in STATE TOTALS\n"
     ]
    }
   ],
   "source": [
    "print(date)\n",
    "print('Case Comment for STATE TOTALS: ', case_comments[0])\n",
    "print('Death Comment for STATE TOTALS: ', death_comments[0])"
   ]
  },
  {
   "cell_type": "markdown",
   "metadata": {},
   "source": [
    "# Testing"
   ]
  },
  {
   "cell_type": "code",
   "execution_count": 21,
   "metadata": {},
   "outputs": [],
   "source": [
    "test_sheet = gc.open(\"test\").sheet1\n",
    "test = pd.DataFrame(test_sheet.get_all_records())"
   ]
  },
  {
   "cell_type": "code",
   "execution_count": 30,
   "metadata": {},
   "outputs": [
    {
     "name": "stdout",
     "output_type": "stream",
     "text": [
      "An error occurred: %s\n"
     ]
    }
   ],
   "source": [
    "insert_comment(test_sheet, (1,2), 'Hello comment')"
   ]
  },
  {
   "cell_type": "code",
   "execution_count": 29,
   "metadata": {},
   "outputs": [],
   "source": [
    "def insert_comment(service, file_id, content):\n",
    "    \"\"\"\n",
    "    Insert a new document-level comment.\n",
    "      Args:\n",
    "        service: Drive API service instance.\n",
    "        file_id: ID of the file to insert comment for.\n",
    "        content: Text content of the comment.\n",
    "      Returns:\n",
    "        The inserted comment if successful, None otherwise.\n",
    "    \"\"\"\n",
    "    new_comment = {\n",
    "        'content': content\n",
    "    }\n",
    "    try:\n",
    "        return service.comments().insert(fileId=file_id, body=new_comment).execute()\n",
    "    except:\n",
    "        print('An error occurred: %s')\n",
    "        return None"
   ]
  },
  {
   "cell_type": "code",
   "execution_count": null,
   "metadata": {},
   "outputs": [],
   "source": []
  }
 ],
 "metadata": {
  "kernelspec": {
   "display_name": "intern",
   "language": "python",
   "name": "intern"
  },
  "language_info": {
   "codemirror_mode": {
    "name": "ipython",
    "version": 3
   },
   "file_extension": ".py",
   "mimetype": "text/x-python",
   "name": "python",
   "nbconvert_exporter": "python",
   "pygments_lexer": "ipython3",
   "version": "3.8.3"
  }
 },
 "nbformat": 4,
 "nbformat_minor": 4
}
